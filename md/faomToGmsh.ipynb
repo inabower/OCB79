{
 "cells": [
  {
   "cell_type": "markdown",
   "metadata": {},
   "source": [
    "## PCのスペック"
   ]
  },
  {
   "cell_type": "code",
   "execution_count": 24,
   "metadata": {},
   "outputs": [
    {
     "name": "stdout",
     "output_type": "stream",
     "text": [
      "model\t\t: 8\n",
      "model name\t: AMD Ryzen 7 2700X Eight-Core Processor\n",
      "vendor_id\t: AuthenticAMD\n",
      "cpu MHz\t\t: 2352.228\n",
      "cache size\t: 512 KB\n"
     ]
    }
   ],
   "source": [
    "!cat /proc/cpuinfo | grep model | head -2\n",
    "!cat /proc/cpuinfo | grep vendor_id   | head -1\n",
    "!cat /proc/cpuinfo | grep MHz   | head -1\n",
    "!cat /proc/cpuinfo | grep cache | head -1"
   ]
  },
  {
   "cell_type": "code",
   "execution_count": 25,
   "metadata": {},
   "outputs": [
    {
     "name": "stdout",
     "output_type": "stream",
     "text": [
      "MemTotal:       16417760 kB\n"
     ]
    }
   ],
   "source": [
    "!cat /proc/meminfo | grep MemTotal"
   ]
  },
  {
   "cell_type": "markdown",
   "metadata": {},
   "source": [
    "## ライブラリのインポート"
   ]
  },
  {
   "cell_type": "code",
   "execution_count": 1,
   "metadata": {},
   "outputs": [],
   "source": [
    "import getfem as gf\n",
    "import numpy as np"
   ]
  },
  {
   "cell_type": "markdown",
   "metadata": {},
   "source": [
    "## 変換したGmsh1形式のメッシュを読み込む"
   ]
  },
  {
   "cell_type": "code",
   "execution_count": 2,
   "metadata": {},
   "outputs": [],
   "source": [
    "mesh_file='foamMesh_1.msh'\n",
    "degree = 2\n",
    "E = 1e3\n",
    "Nu = 0.3\n",
    "Lambda = E*Nu / ((1+Nu)*(1-2*Nu))\n",
    "Mu = E/(2*(1+Nu))\n",
    "\n",
    "m = gf.Mesh('import', 'gmsh', mesh_file)"
   ]
  },
  {
   "cell_type": "markdown",
   "metadata": {},
   "source": [
    "## 変位、応力の場と積分法を作成"
   ]
  },
  {
   "cell_type": "code",
   "execution_count": 3,
   "metadata": {},
   "outputs": [
    {
     "name": "stdout",
     "output_type": "stream",
     "text": [
      "N_curves=248092, N_points=50429, qdim=3, fem=FEM_PK(3,2), DOF=1094874\n"
     ]
    }
   ],
   "source": [
    "mfu = gf.MeshFem(m,3)\n",
    "mfp = gf.MeshFem(m,1)\n",
    "\n",
    "mfu.set_fem(gf.Fem('FEM_PK(3,2)'))\n",
    "mfp.set_fem(gf.Fem('FEM_PK(3,0)'))\n",
    "\n",
    "mim = gf.MeshIm(m, gf.Integ('IM_TETRAHEDRON(5)'))\n",
    "\n",
    "print(f'N_curves={m.nbcvs()}, N_points={m.nbpts()}, qdim={mfu.qdim()}, fem={mfu.fem()[0].char()}, DOF={mfu.nbdof()}')"
   ]
  },
  {
   "cell_type": "markdown",
   "metadata": {},
   "source": [
    "## 境界の名前付け"
   ]
  },
  {
   "cell_type": "code",
   "execution_count": 4,
   "metadata": {},
   "outputs": [],
   "source": [
    "topfaces = m.outer_faces_in_box([0.0,-0.01,0.011], [0.025, 0.08, 0.019])\n",
    "btmfaces = m.outer_faces_in_box([0.0,-0.01,-0.0061], [0.025, 0.08, -0.0059])\n",
    "NEUMANN_BOUNDARY = 1\n",
    "DIRICHLET_BOUNDARY = 2\n",
    "\n",
    "m.set_region(NEUMANN_BOUNDARY,   topfaces)\n",
    "m.set_region(DIRICHLET_BOUNDARY, btmfaces)"
   ]
  },
  {
   "cell_type": "markdown",
   "metadata": {},
   "source": [
    "## 各項と初期条件や境界条件をセット"
   ]
  },
  {
   "cell_type": "code",
   "execution_count": 5,
   "metadata": {},
   "outputs": [],
   "source": [
    "md = gf.Model('real')\n",
    "md.add_fem_variable('u', mfu)\n",
    "md.add_initialized_data('cmu', Mu)\n",
    "md.add_initialized_data('clambda', Lambda)\n",
    "md.add_isotropic_linearized_elasticity_brick(mim, 'u', 'clambda', 'cmu')\n",
    "md.add_fem_variable('p', mfp)\n",
    "md.add_linear_incompressibility_brick(mim, 'u', 'p')\n",
    "md.add_initialized_data('VolumicData', [0,-1,0]);\n",
    "md.add_source_term_brick(mim, 'u', 'VolumicData');\n",
    "\n",
    "# Attach the tripod to the ground\n",
    "md.add_Dirichlet_condition_with_multipliers(mim, 'u', mfu, 2);"
   ]
  },
  {
   "cell_type": "code",
   "execution_count": 6,
   "metadata": {},
   "outputs": [
    {
     "name": "stdout",
     "output_type": "stream",
     "text": [
      "Using memory = 31.0 MB\n"
     ]
    }
   ],
   "source": [
    "print(f'Using memory = {md.memsize() / (1024**2):.1f} MB')"
   ]
  },
  {
   "cell_type": "code",
   "execution_count": 7,
   "metadata": {},
   "outputs": [
    {
     "data": {
      "text/plain": [
       "\u001b[0;31mType:\u001b[0m           Model\n",
       "\u001b[0;31mFile:\u001b[0m           ~/Applications/getfem-5.4/build/lib/python3.6/site-packages/getfem/getfem.py\n",
       "\u001b[0;31mDocstring:\u001b[0m     \n",
       "GetFEM Model object\n",
       "\n",
       "Model variables store the variables and the state data and the\n",
       "description of a model. This includes the global tangent matrix, the right\n",
       "hand side and the constraints. There are two kinds of models, the `real`\n",
       "and the `complex` models.\n",
       "\u001b[0;31mInit docstring:\u001b[0m\n",
       "General constructor for Model objects\n",
       "\n",
       "* ``MD = Model('real')``\n",
       "  Build a model for real unknowns.\n",
       "\n",
       "* ``MD = Model('complex')``\n",
       "  Build a model for complex unknowns.\n",
       "\n",
       "  \n"
      ]
     },
     "metadata": {},
     "output_type": "display_data"
    }
   ],
   "source": [
    "md?"
   ]
  },
  {
   "cell_type": "markdown",
   "metadata": {},
   "source": [
    "## 式を解く"
   ]
  },
  {
   "cell_type": "code",
   "execution_count": 8,
   "metadata": {},
   "outputs": [
    {
     "name": "stdout",
     "output_type": "stream",
     "text": [
      "running solve...\n",
      " solve done!\n"
     ]
    },
    {
     "data": {
      "text/plain": [
       "         6 function calls in 657.493 seconds\n",
       "\n",
       "   Ordered by: internal time\n",
       "\n",
       "   ncalls  tottime  percall  cumtime  percall filename:lineno(function)\n",
       "        1  657.493  657.493  657.493  657.493 {built-in method _getfem.getfem}\n",
       "        1    0.000    0.000  657.493  657.493 {built-in method builtins.exec}\n",
       "        1    0.000    0.000  657.493  657.493 getfem.py:2774(get)\n",
       "        1    0.000    0.000  657.493  657.493 getfem.py:2915(solve)\n",
       "        1    0.000    0.000  657.493  657.493 <string>:1(<module>)\n",
       "        1    0.000    0.000    0.000    0.000 {method 'disable' of '_lsprof.Profiler' objects}"
      ]
     },
     "metadata": {},
     "output_type": "display_data"
    }
   ],
   "source": [
    "print('running solve...')\n",
    "%prun md.solve('noisy', 'max iter', 1);\n",
    "U = md.variable('u');\n",
    "print('solve done!')"
   ]
  },
  {
   "cell_type": "markdown",
   "metadata": {},
   "source": [
    "## 解析結果からミーゼス応力を算出"
   ]
  },
  {
   "cell_type": "code",
   "execution_count": 9,
   "metadata": {},
   "outputs": [
    {
     "name": "stdout",
     "output_type": "stream",
     "text": [
      "Von Mises range:  4.1703334511306625e-05 0.09285832961345553\n"
     ]
    }
   ],
   "source": [
    "mfdu=gf.MeshFem(m,1)\n",
    "mfdu.set_fem(gf.Fem('FEM_PK_DISCONTINUOUS(3,1)'))\n",
    "VM = md.compute_isotropic_linearized_Von_Mises_or_Tresca('u','clambda','cmu', mfdu);\n",
    "\n",
    "# post-processing\n",
    "sl=gf.Slice(('boundary',), mfu, degree)\n",
    "\n",
    "print('Von Mises range: ', VM.min(), VM.max())"
   ]
  },
  {
   "cell_type": "markdown",
   "metadata": {},
   "source": [
    "## VTK形式で結果を出力"
   ]
  },
  {
   "cell_type": "code",
   "execution_count": 10,
   "metadata": {},
   "outputs": [
    {
     "name": "stdout",
     "output_type": "stream",
     "text": [
      "*** GetFEM view of the workspace:\n",
      "*** Python view of the workspace:\n",
      "<class 'getfem.Mesh'> class 8, id 0 : instances=1\n",
      "<class 'getfem.MeshFem'> class 9, id 1 : instances=1\n",
      "<class 'getfem.MeshFem'> class 9, id 2 : instances=1\n",
      "<class 'getfem.MeshIm'> class 10, id 6 : instances=1\n",
      "<class 'getfem.Model'> class 14, id 7 : instances=1\n",
      "<class 'getfem.MeshFem'> class 9, id 8 : instances=1\n",
      "<class 'getfem.Slice'> class 16, id 10 : instances=1\n"
     ]
    }
   ],
   "source": [
    "sl.export_to_vtk('mises.vtk', 'ascii', mfdu,  VM, 'Von Mises Stress', mfu, U, 'Displacement')\n",
    "\n",
    "gf.memstats()"
   ]
  },
  {
   "cell_type": "code",
   "execution_count": null,
   "metadata": {},
   "outputs": [],
   "source": []
  }
 ],
 "metadata": {
  "kernelspec": {
   "display_name": "Python 3",
   "language": "python",
   "name": "python3"
  },
  "language_info": {
   "codemirror_mode": {
    "name": "ipython",
    "version": 3
   },
   "file_extension": ".py",
   "mimetype": "text/x-python",
   "name": "python",
   "nbconvert_exporter": "python",
   "pygments_lexer": "ipython3",
   "version": "3.6.9"
  }
 },
 "nbformat": 4,
 "nbformat_minor": 4
}
